{
 "cells": [
  {
   "cell_type": "code",
   "execution_count": 1,
   "metadata": {},
   "outputs": [],
   "source": [
    "#import numpy as np\n",
    "#import matplotlib.pyplot as plt\n",
    "import corner\n",
    "import emcee\n",
    "from invisoplanet_detection.statistics import *"
   ]
  },
  {
   "cell_type": "markdown",
   "metadata": {},
   "source": [
    "To run MCMC I need the following function call with arguments:\n",
    " - num_walker: number of walker to sample the distribution\n",
    " - num_dim: number of dimensions = number of parameters in the distribution. Here num_dim = number unknown planet (+ eta?)\n",
    " - log_post: name of callable function for posterior distribution. Must take num_dim parameters then take args\n",
    " - args: arguments passed to log_post\n",
    " - initial_pos: array of initial position for all the walkers. ex: initial_pos = np.array((2.6, 1.3)) + 0.01 * np.random.randn(nwalkers, ndim)\n",
    " - num_iter: number of iterations of the algorithm.\n",
    "\n",
    "sampler = emcee.EnsembleSampler(num_walkers, num_dim, log_post, args=(x_vals, y_vals, errs))\n",
    "\n",
    "sampler.run_mcmc(initial_pos, num_iter, progress=True);"
   ]
  },
  {
   "cell_type": "markdown",
   "metadata": {},
   "source": [
    "I can process the data using the function calls:\n",
    "\n",
    "samples = sampler.get_chain()\n",
    "\n",
    "flat_samples = sampler.get_chain(discard=100, thin=15, flat=True)"
   ]
  },
  {
   "cell_type": "markdown",
   "metadata": {},
   "source": [
    "Finally make the corner plot using:\n",
    "\n",
    "fig = corner.corner(flat_samples, labels=labels, quantiles=[0.16, 0.5, 0.84]);"
   ]
  },
  {
   "cell_type": "code",
   "execution_count": null,
   "metadata": {},
   "outputs": [],
   "source": [
    "#To build the likelihood function on each system use the following code example:\n",
    "\n",
    "# Setup the likelihood object\n",
    "known_bodies = 1\n",
    "unknown_bodies = 2\n",
    "parameters_filename = \"invisoplanet_detection/data/sat_sun_jup_sat_1_2_2.json\"\n",
    "max_masses = np.array([1, 9.547919e-4]) * 2  # Actual masses times 2. Consider loading file then multiplying by 2?\n",
    "surrogate_points = 9\n",
    "\n",
    "# Optional arguments (these are the default values)\n",
    "num_iterations = 20_000     \n",
    "time_step = 0.5\n",
    "last_n = 100        \n",
    "\n",
    "# Construct the likelihood object\n",
    "likelihood = Likelihood(known_bodies, unknown_bodies, parameters_filename, max_masses, surrogate_points,\n",
    "\t\t\t\t\t\tnum_iterations, time_step, last_n)\n",
    "\n",
    "# Set the eta value (the only parameter you can change without having to regenerate the surrogate model)\n",
    "likelihood.set_eta(1)\n",
    "\n",
    "#log of posterior distribution accessed from:\n",
    "log_post = likelihood.log_posterior(guess_masses, x = None, y = None, yerr = None) "
   ]
  }
 ],
 "metadata": {
  "kernelspec": {
   "display_name": "Python 3",
   "language": "python",
   "name": "python3"
  },
  "language_info": {
   "codemirror_mode": {
    "name": "ipython",
    "version": 3
   },
   "file_extension": ".py",
   "mimetype": "text/x-python",
   "name": "python",
   "nbconvert_exporter": "python",
   "pygments_lexer": "ipython3",
   "version": "3.7.4"
  }
 },
 "nbformat": 4,
 "nbformat_minor": 2
}
