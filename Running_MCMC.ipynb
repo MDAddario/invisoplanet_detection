{
 "cells": [
  {
   "cell_type": "code",
   "execution_count": 1,
   "metadata": {},
   "outputs": [],
   "source": [
    "import numpy as np\n",
    "#import matplotlib.pyplot as plt\n",
    "import corner\n",
    "import emcee\n",
    "from invisoplanet_detection.statistics import *"
   ]
  },
  {
   "cell_type": "code",
   "execution_count": 2,
   "metadata": {},
   "outputs": [
    {
     "name": "stderr",
     "output_type": "stream",
     "text": [
      "Mass 1 list: 100%|███████████████████████████████████████████████████████████████████████| 9/9 [00:52<00:00,  5.88s/it]\n"
     ]
    }
   ],
   "source": [
    "# Setup the likelihood object\n",
    "known_bodies = 2\n",
    "unknown_bodies = 1\n",
    "parameters_filename = \"invisoplanet_detection/data/sun_jup_2_0_1.json\"\n",
    "max_masses = np.array([1e-3])  #Actual mass x2, or small value if actual mass is 0\n",
    "surrogate_points = 9\n",
    "\n",
    "# Optional arguments for Likelihood (these are the default values)\n",
    "num_iterations = 20_000     \n",
    "time_step = 0.5\n",
    "last_n = 100        \n",
    "\n",
    "# Construct the likelihood object\n",
    "likelihood_SUN_JUP = Likelihood(known_bodies, unknown_bodies, parameters_filename, max_masses, surrogate_points, num_iterations, time_step, last_n)\n",
    " "
   ]
  },
  {
   "cell_type": "code",
   "execution_count": 10,
   "metadata": {},
   "outputs": [
    {
     "name": "stderr",
     "output_type": "stream",
     "text": [
      "  0%|                                                                                         | 0/5000 [00:00<?, ?it/s]C:\\ProgramData\\Anaconda3\\lib\\site-packages\\emcee\\moves\\red_blue.py:99: RuntimeWarning: invalid value encountered in double_scalars\n",
      "  lnpdiff = f + nlp - state.log_prob[j]\n",
      "100%|██████████████████████████████████████████████████████████████████████████████| 5000/5000 [01:10<00:00, 70.99it/s]\n"
     ]
    }
   ],
   "source": [
    "#Setup the MCMC\n",
    "#likelihood.log_posterior_variable_eta((guess_masses, eta), x = None, y = None, yerr = None)\n",
    "num_walker = 16\n",
    "num_dim = 2\n",
    "num_iter = 5000\n",
    "init_pos = np.random.randn(num_walker, num_dim) @ np.array([[10**(-6), 0],[0, 10]])\n",
    "\n",
    "#Run the MCMC\n",
    "sampler = emcee.EnsembleSampler(num_walker, num_dim, likelihood_SUN_JUP.log_posterior_variable_eta)\n",
    "sampler.run_mcmc(init_pos, num_iter, progress=True);"
   ]
  },
  {
   "cell_type": "code",
   "execution_count": 11,
   "metadata": {},
   "outputs": [
    {
     "name": "stderr",
     "output_type": "stream",
     "text": [
      "WARNING:root:Too few points to create valid contours\n"
     ]
    },
    {
     "data": {
      "image/png": "[encoded data removed]",
      "text/plain": [
       "<Figure size 396x396 with 4 Axes>"
      ]
     },
     "metadata": {
      "needs_background": "light"
     },
     "output_type": "display_data"
    }
   ],
   "source": [
    "samples = sampler.get_chain()\n",
    "flat_samples = sampler.get_chain(discard=100, flat=True)\n",
    "fig = corner.corner(flat_samples);"
   ]
  },
  {
   "cell_type": "code",
   "execution_count": 14,
   "metadata": {},
   "outputs": [
    {
     "name": "stderr",
     "output_type": "stream",
     "text": [
      "  0%|                                                                                         | 0/5000 [00:00<?, ?it/s]C:\\ProgramData\\Anaconda3\\lib\\site-packages\\emcee\\moves\\red_blue.py:99: RuntimeWarning: invalid value encountered in double_scalars\n",
      "  lnpdiff = f + nlp - state.log_prob[j]\n",
      "100%|██████████████████████████████████████████████████████████████████████████████| 5000/5000 [00:52<00:00, 96.10it/s]\n"
     ]
    }
   ],
   "source": [
    "#Setup the MCMC\n",
    "#likelihood.log_posterior_variable_eta((guess_masses, eta), x = None, y = None, yerr = None)\n",
    "num_walker = 16\n",
    "num_dim = 1\n",
    "num_iter = 5000\n",
    "init_pos = 10**(-8) * np.random.randn(num_walker, 1)\n",
    "\n",
    "likelihood_SUN_JUP.set_eta(0.0007)\n",
    "\n",
    "#Run the MCMC\n",
    "sampler = emcee.EnsembleSampler(num_walker, num_dim, likelihood_SUN_JUP.log_posterior)\n",
    "sampler.run_mcmc(init_pos, num_iter, progress=True);"
   ]
  },
  {
   "cell_type": "code",
   "execution_count": 15,
   "metadata": {},
   "outputs": [
    {
     "data": {
      "image/png": "[encoded data removed]",
      "text/plain": [
       "<Figure size 244.8x244.8 with 1 Axes>"
      ]
     },
     "metadata": {
      "needs_background": "light"
     },
     "output_type": "display_data"
    }
   ],
   "source": [
    "samples = sampler.get_chain()\n",
    "flat_samples = sampler.get_chain(discard=100, thin=15, flat=True)\n",
    "fig = corner.corner(flat_samples);"
   ]
  },
  {
   "cell_type": "code",
   "execution_count": null,
   "metadata": {},
   "outputs": [],
   "source": []
  }
 ],
 "metadata": {
  "kernelspec": {
   "display_name": "Python 3",
   "language": "python",
   "name": "python3"
  },
  "language_info": {
   "codemirror_mode": {
    "name": "ipython",
    "version": 3
   },
   "file_extension": ".py",
   "mimetype": "text/x-python",
   "name": "python",
   "nbconvert_exporter": "python",
   "pygments_lexer": "ipython3",
   "version": "3.7.4"
  }
 },
 "nbformat": 4,
 "nbformat_minor": 2
}
