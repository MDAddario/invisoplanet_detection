{
 "cells": [
  {
   "cell_type": "markdown",
   "metadata": {},
   "source": [
    "GOAL\n",
    "\n",
    "The goal of this jupyter notebook is to run Markov Chain Monte Carlo algorithm on various N+m bodies systems where N is the number of known bodies (mass, position and velocity all known) and m is a number of unknown bodies (unknown mass, initial position and initial velocity assumed) possibly present in the system. Specifically, we aim to run the algorithm on the systems composed of:\n",
    "\n",
    "- The Sun and Jupiter both being known, with no unknown bodies,\n",
    "\n",
    "- The Sun and Jupiter both being known, with Saturn as an unknown body.\n",
    "\n",
    "- Saturn as a known body, with the Sun and Jupiter being unknown,\n",
    "\n",
    "- All planets in the Solar system being known, with the Sun being unknown (?).\n",
    "\n",
    "Moreover, we would like to investigate the limits of the simulation developped here. How light and how far can an unknown body be before the Bayesian inference can no longer detect its presence?"
   ]
  },
  {
   "cell_type": "markdown",
   "metadata": {},
   "source": [
    "DEPENDENCIES\n",
    "\n",
    "This notebook relies on the likelihood, prior (assumed to be uniform between 0 and max_mass) and posterior distribution coded by MLD and which in turn relies on the N body simulation code by DD."
   ]
  },
  {
   "cell_type": "markdown",
   "metadata": {},
   "source": [
    "MCMC PARAMETERS DESCRIPTION\n",
    "\n",
    "The parameter used to evaluate the presence of the unknown bodies is their mass. The MCMC thus sample a m-dimensional mass space. By letting the algorithm determine probability distributions for the masses of each body based on the trajectories simulated, we obtain a most likely mass for the bodies and a credibility region. Consequently, if a mass is strongly peaked near zero, then we know then we will have a level of certainty with which we can say that this body is was not detected in the system by our simulation and Bayesian inference. \n",
    "\n",
    "Gaussian errors are assumed between the simulated trajectories and the surrogate model obtain. \"eta\" defines the width of the Gaussian distribution since our measurements don't have set error bars. Are we fitting for eta?\n",
    "\n",
    "The likelihood is defined for N known bodies and m unknown with z being the number of bodies we are trying to find. For example, We could have a system composed of the Sun and Jupiter as knwon bodies, and Saturn as an unknown, but we could still be trying to find z = 2 unknown bodies in the system, in which case, we hope the algorithm will converge to the mass of on of the unknown being 0 (meaning this extra bodies is not present in the system). "
   ]
  },
  {
   "cell_type": "markdown",
   "metadata": {},
   "source": [
    "QUESTIONS TO DISCUSS\n",
    "\n",
    "- Corner plot with only 1 parameter???\n",
    "- Do we want to fit for eta?\n",
    "- Do I want to build my own MCMC algorithm? Use emcee?"
   ]
  },
  {
   "cell_type": "markdown",
   "metadata": {},
   "source": [
    "TO RUN MCMC:\n",
    "- Posterior distribution incorporated in likelihood class,\n",
    "- eta incorporated in likelihood class, can be changed after constructing likelihood class. \n",
    "- If using emcee, will need a number of walker, number of iteration, initial pos of walker, log_post, and number parameters (dimension)"
   ]
  },
  {
   "cell_type": "code",
   "execution_count": null,
   "metadata": {},
   "outputs": [],
   "source": []
  }
 ],
 "metadata": {
  "kernelspec": {
   "display_name": "Python 3",
   "language": "python",
   "name": "python3"
  },
  "language_info": {
   "codemirror_mode": {
    "name": "ipython",
    "version": 3
   },
   "file_extension": ".py",
   "mimetype": "text/x-python",
   "name": "python",
   "nbconvert_exporter": "python",
   "pygments_lexer": "ipython3",
   "version": "3.7.4"
  }
 },
 "nbformat": 4,
 "nbformat_minor": 2
}
